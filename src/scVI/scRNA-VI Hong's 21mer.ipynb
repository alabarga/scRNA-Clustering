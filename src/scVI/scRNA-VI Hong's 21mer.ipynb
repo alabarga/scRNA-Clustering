{
 "cells": [
  {
   "cell_type": "code",
   "execution_count": 3,
   "metadata": {},
   "outputs": [],
   "source": [
    "import scVI\n",
    "import tensorflow as tf\n",
    "from benchmarking import *\n",
    "from helper import *\n",
    "\n",
    "import numpy as np\n",
    "import time\n",
    "import pandas as pd\n",
    "from sklearn.model_selection import train_test_split\n",
    "from sklearn.manifold import TSNE\n",
    "import matplotlib.pyplot as plt\n",
    "import pickle"
   ]
  },
  {
   "cell_type": "markdown",
   "metadata": {},
   "source": [
    "## Load Data"
   ]
  },
  {
   "cell_type": "code",
   "execution_count": 2,
   "metadata": {},
   "outputs": [
    {
     "name": "stdout",
     "output_type": "stream",
     "text": [
      "Number of cluster labels 3381\n"
     ]
    }
   ],
   "source": [
    "\n",
    "X_type = pd.read_csv(\"../../data/cell.type_E31.csv\", sep=\",\")\n",
    "cell_types, cluster_labels = np.unique(np.array(X_type)[:,1], return_inverse=True)\n",
    "\n",
    "print(\"Number of cluster labels\",len(cluster_labels))\n",
    "    "
   ]
  },
  {
   "cell_type": "code",
   "execution_count": 13,
   "metadata": {},
   "outputs": [],
   "source": [
    "\n",
    "# dge = np.load(\"../../data/dge_E31.dat\")\n",
    "with open(\"/home/zgy_ucla_cs/Research/singleCell/scRNA-Seq-TCC-prep/mat_21mer/TCC_matrix.dat\", 'rb') as f:\n",
    "    T=pickle.load(f, encoding='latin1')\n",
    "    \n",
    "# with open(\"/home/zgy_ucla_cs/Research/singleCell/scRNA-Seq-TCC-prep/mat_31mer/TCC_matrix.dat\", 'rb') as f:\n",
    "    T=pickle.load(f, encoding='latin1')    \n",
    "# Get the expression matrix: Cell * Genes\n",
    "\n",
    "# X = dge.values.T\n",
    "# cell_names = dge.columns.values\n",
    "# cell_names2 = np.array(X_type)[:,0]"
   ]
  },
  {
   "cell_type": "code",
   "execution_count": 14,
   "metadata": {},
   "outputs": [
    {
     "data": {
      "text/plain": [
       "(279478, 3381)"
      ]
     },
     "execution_count": 14,
     "metadata": {},
     "output_type": "execute_result"
    }
   ],
   "source": [
    "T.shape"
   ]
  },
  {
   "cell_type": "code",
   "execution_count": 23,
   "metadata": {},
   "outputs": [],
   "source": [
    "X = T.T.toarray()"
   ]
  },
  {
   "cell_type": "code",
   "execution_count": 27,
   "metadata": {},
   "outputs": [
    {
     "data": {
      "text/plain": [
       "(3381, 279478)"
      ]
     },
     "execution_count": 27,
     "metadata": {},
     "output_type": "execute_result"
    }
   ],
   "source": [
    "X.shape"
   ]
  },
  {
   "cell_type": "code",
   "execution_count": 29,
   "metadata": {},
   "outputs": [],
   "source": [
    "\n",
    "expression_train, expression_test, c_train, c_test = train_test_split(X, cluster_labels, random_state=0)"
   ]
  },
  {
   "cell_type": "code",
   "execution_count": 31,
   "metadata": {},
   "outputs": [
    {
     "data": {
      "text/plain": [
       "(2535, 279478)"
      ]
     },
     "execution_count": 31,
     "metadata": {},
     "output_type": "execute_result"
    }
   ],
   "source": [
    "expression_train.shape"
   ]
  },
  {
   "cell_type": "code",
   "execution_count": 17,
   "metadata": {},
   "outputs": [],
   "source": [
    "log_library_size = np.log(np.sum(expression_train, axis=1))\n",
    "mean, var = np.mean(log_library_size), np.var(log_library_size)\n",
    "\n",
    "batch_size = 128\n",
    "learning_rate = 0.001\n",
    "epsilon = 0.01\n",
    "latent_dimension = 10\n"
   ]
  },
  {
   "cell_type": "code",
   "execution_count": 18,
   "metadata": {},
   "outputs": [
    {
     "name": "stdout",
     "output_type": "stream",
     "text": [
      "Running scVI on 279478 genes\n",
      "scVI will run without batch correction\n",
      "Will work on mode numeric for incorporating library size\n",
      "Will work on mode gene for modeling inverse dispersion param\n",
      "Will apply zero inflation\n",
      "1 hidden layers at 128 each for a final 10 latent space\n"
     ]
    }
   ],
   "source": [
    "tf.reset_default_graph()\n",
    "expression = tf.placeholder(tf.float32, (None, expression_train.shape[1]), name='x')\n",
    "kl_scalar = tf.placeholder(tf.float32, (), name='kl_scalar')\n",
    "optimizer = tf.train.AdamOptimizer(learning_rate=learning_rate, epsilon=epsilon)\n",
    "training_phase = tf.placeholder(tf.bool, (), name='training_phase')\n",
    "\n",
    "# getting priors\n",
    "log_library_size = np.log(np.sum(expression_train, axis=1))\n",
    "mean, var = np.mean(log_library_size), np.var(log_library_size)\n",
    "# loading data\n",
    "model = scVI.scVIModel(expression=expression, kl_scale=kl_scalar, \\\n",
    "                         optimize_algo=optimizer, phase=training_phase, \\\n",
    "                          library_size_mean=mean, library_size_var=var, n_latent=latent_dimension)\n",
    "\n",
    "#starting computing session\n",
    "sess = tf.Session()"
   ]
  },
  {
   "cell_type": "code",
   "execution_count": null,
   "metadata": {},
   "outputs": [],
   "source": [
    "sess.run(tf.global_variables_initializer())\n",
    "result = train_model(model, (expression_train, expression_test), sess, 250, batch_size=batch_size)"
   ]
  },
  {
   "cell_type": "code",
   "execution_count": null,
   "metadata": {},
   "outputs": [],
   "source": []
  }
 ],
 "metadata": {
  "kernelspec": {
   "display_name": "Python 3",
   "language": "python",
   "name": "python3"
  },
  "language_info": {
   "codemirror_mode": {
    "name": "ipython",
    "version": 3
   },
   "file_extension": ".py",
   "mimetype": "text/x-python",
   "name": "python",
   "nbconvert_exporter": "python",
   "pygments_lexer": "ipython3",
   "version": "3.4.5"
  }
 },
 "nbformat": 4,
 "nbformat_minor": 2
}
